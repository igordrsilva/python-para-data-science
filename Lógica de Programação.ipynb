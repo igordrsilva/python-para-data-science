{
 "cells": [
  {
   "cell_type": "markdown",
   "id": "a8eeab9f",
   "metadata": {},
   "source": [
    "# Lógica de Programação\n"
   ]
  },
  {
   "cell_type": "markdown",
   "id": "1a56479d",
   "metadata": {},
   "source": [
    "## Introdução:"
   ]
  },
  {
   "cell_type": "code",
   "execution_count": 57,
   "id": "61c3f3e0",
   "metadata": {},
   "outputs": [],
   "source": [
    "nome = 'Ígor Douglas Ramos da Silva'\n",
    "idade = 19"
   ]
  },
  {
   "cell_type": "code",
   "execution_count": 58,
   "id": "be43f108",
   "metadata": {},
   "outputs": [
    {
     "name": "stdout",
     "output_type": "stream",
     "text": [
      "O meu nome é Ígor Douglas Ramos da Silva e minha idade é 19!\n"
     ]
    }
   ],
   "source": [
    "print(f'O meu nome é {nome} e minha idade é {idade}!')"
   ]
  },
  {
   "cell_type": "markdown",
   "id": "6d52a5f2",
   "metadata": {},
   "source": [
    "## Criando minha primeira função:\n"
   ]
  },
  {
   "cell_type": "code",
   "execution_count": 59,
   "id": "0637ba84",
   "metadata": {},
   "outputs": [],
   "source": [
    "def saudacao():\n",
    "    nome = str(input(\"Qual o seu nome? \"))\n",
    "    print(f\"Olá {nome}!\") "
   ]
  },
  {
   "cell_type": "code",
   "execution_count": 60,
   "id": "8dde473f",
   "metadata": {},
   "outputs": [
    {
     "name": "stdout",
     "output_type": "stream",
     "text": [
      "Qual o seu nome? Ígor\n",
      "Olá Ígor!\n"
     ]
    }
   ],
   "source": [
    "saudacao()"
   ]
  },
  {
   "cell_type": "markdown",
   "id": "ff2ab7fd",
   "metadata": {},
   "source": [
    "## Parâmetros:"
   ]
  },
  {
   "cell_type": "code",
   "execution_count": 61,
   "id": "69b941df",
   "metadata": {},
   "outputs": [],
   "source": [
    "nome = 'Ivan'"
   ]
  },
  {
   "cell_type": "code",
   "execution_count": 62,
   "id": "29cd4334",
   "metadata": {},
   "outputs": [],
   "source": [
    "def saudacao_com_parametros(nome_da_pessoa):\n",
    "    print(f'Olá, {nome_da_pessoa}!')"
   ]
  },
  {
   "cell_type": "code",
   "execution_count": 63,
   "id": "1630f48b",
   "metadata": {},
   "outputs": [
    {
     "name": "stdout",
     "output_type": "stream",
     "text": [
      "Olá, Ivan!\n"
     ]
    }
   ],
   "source": [
    "saudacao_com_parametros(nome)"
   ]
  },
  {
   "cell_type": "markdown",
   "id": "878144f4",
   "metadata": {},
   "source": [
    "## Condições:"
   ]
  },
  {
   "cell_type": "code",
   "execution_count": 64,
   "id": "202822ec",
   "metadata": {},
   "outputs": [],
   "source": [
    "idade = 19"
   ]
  },
  {
   "cell_type": "code",
   "execution_count": 65,
   "id": "9ffde86f",
   "metadata": {},
   "outputs": [],
   "source": [
    "def verificacao_permissao_dirigir(idade):\n",
    "    if idade >= 18:\n",
    "        print(f'Você já tem permissão para dirigir!')\n",
    "    else:\n",
    "        print(\"Você ainda não tem permissão para dirigir!\")"
   ]
  },
  {
   "cell_type": "code",
   "execution_count": 66,
   "id": "9412b8a4",
   "metadata": {},
   "outputs": [
    {
     "name": "stdout",
     "output_type": "stream",
     "text": [
      "Você já tem permissão para dirigir!\n"
     ]
    }
   ],
   "source": [
    "verificacao_permissao_dirigir(idade)"
   ]
  },
  {
   "cell_type": "code",
   "execution_count": 67,
   "id": "cc71ebbe",
   "metadata": {},
   "outputs": [
    {
     "name": "stdout",
     "output_type": "stream",
     "text": [
      "Qual a sua idade? 19\n",
      "Você pode dirigir!\n"
     ]
    }
   ],
   "source": [
    "def verifica_pode_dirigir():\n",
    "    idade = int(input('Qual a sua idade? '))\n",
    "    if idade >= 18:\n",
    "        print('Você pode dirigir!')\n",
    "    else:\n",
    "        print('Você não pode dirigir!')\n",
    "\n",
    "verifica_pode_dirigir()"
   ]
  },
  {
   "cell_type": "markdown",
   "id": "dcf88eff",
   "metadata": {},
   "source": [
    "## Listas:\n"
   ]
  },
  {
   "cell_type": "code",
   "execution_count": 68,
   "id": "1e8b102d",
   "metadata": {},
   "outputs": [],
   "source": [
    "idade = 22"
   ]
  },
  {
   "cell_type": "code",
   "execution_count": 69,
   "id": "477411d1",
   "metadata": {},
   "outputs": [
    {
     "data": {
      "text/plain": [
       "22"
      ]
     },
     "execution_count": 69,
     "metadata": {},
     "output_type": "execute_result"
    }
   ],
   "source": [
    "idade"
   ]
  },
  {
   "cell_type": "code",
   "execution_count": 70,
   "id": "e2b45258",
   "metadata": {},
   "outputs": [
    {
     "data": {
      "text/plain": [
       "int"
      ]
     },
     "execution_count": 70,
     "metadata": {},
     "output_type": "execute_result"
    }
   ],
   "source": [
    "type(idade)"
   ]
  },
  {
   "cell_type": "code",
   "execution_count": 71,
   "id": "1776b090",
   "metadata": {},
   "outputs": [],
   "source": [
    "nome = \"Igor\""
   ]
  },
  {
   "cell_type": "code",
   "execution_count": 72,
   "id": "a3f71ce4",
   "metadata": {},
   "outputs": [
    {
     "data": {
      "text/plain": [
       "str"
      ]
     },
     "execution_count": 72,
     "metadata": {},
     "output_type": "execute_result"
    }
   ],
   "source": [
    "type(nome)"
   ]
  },
  {
   "cell_type": "code",
   "execution_count": 73,
   "id": "7218631f",
   "metadata": {},
   "outputs": [],
   "source": [
    "idades = [13, 18, 17, 20]"
   ]
  },
  {
   "cell_type": "code",
   "execution_count": 74,
   "id": "6d396f29",
   "metadata": {},
   "outputs": [
    {
     "data": {
      "text/plain": [
       "list"
      ]
     },
     "execution_count": 74,
     "metadata": {},
     "output_type": "execute_result"
    }
   ],
   "source": [
    "type(idades)"
   ]
  },
  {
   "cell_type": "code",
   "execution_count": 75,
   "id": "049f90b0",
   "metadata": {},
   "outputs": [
    {
     "data": {
      "text/plain": [
       "17"
      ]
     },
     "execution_count": 75,
     "metadata": {},
     "output_type": "execute_result"
    }
   ],
   "source": [
    "idades[2]"
   ]
  },
  {
   "cell_type": "code",
   "execution_count": 76,
   "id": "caa32b78",
   "metadata": {},
   "outputs": [
    {
     "data": {
      "text/plain": [
       "[13, 18, 17, 20]"
      ]
     },
     "execution_count": 76,
     "metadata": {},
     "output_type": "execute_result"
    }
   ],
   "source": [
    "idades"
   ]
  },
  {
   "cell_type": "markdown",
   "id": "02cc1a0f",
   "metadata": {},
   "source": [
    "## Laços e Loop:"
   ]
  },
  {
   "cell_type": "code",
   "execution_count": 77,
   "id": "73155f5a",
   "metadata": {},
   "outputs": [],
   "source": [
    "def verificacao_permissao_dirigir(idade):\n",
    "    if idade >= 18:\n",
    "        print(f'{idade} anos de idade, já tem permissão para dirigir!')\n",
    "    else:\n",
    "        print(f\"{idade} anos de idade, ainda não tem permissão para dirigir!\")"
   ]
  },
  {
   "cell_type": "code",
   "execution_count": 78,
   "id": "5df8c8ee",
   "metadata": {},
   "outputs": [
    {
     "name": "stdout",
     "output_type": "stream",
     "text": [
      "13 anos de idade, ainda não tem permissão para dirigir!\n",
      "18 anos de idade, já tem permissão para dirigir!\n",
      "17 anos de idade, ainda não tem permissão para dirigir!\n",
      "20 anos de idade, já tem permissão para dirigir!\n"
     ]
    }
   ],
   "source": [
    "for idade in idades:\n",
    "    verificacao_permissao_dirigir(idade)"
   ]
  },
  {
   "cell_type": "code",
   "execution_count": 81,
   "id": "98b71f7b",
   "metadata": {},
   "outputs": [],
   "source": [
    "def verIdades(idades):\n",
    "    for idade in idades:\n",
    "        if idade >= 18:\n",
    "            print(f'Você tem {idade} anos de idade e JÁ TEM permissão para dirigir!')\n",
    "        else:\n",
    "            print(f'Você tem {idade} anos de idade e AINDA NÃO TEM permissão para dirigir!')"
   ]
  },
  {
   "cell_type": "code",
   "execution_count": 82,
   "id": "fae2fba3",
   "metadata": {},
   "outputs": [
    {
     "name": "stdout",
     "output_type": "stream",
     "text": [
      "Você tem 13 anos de idade e AINDA NÃO TEM permissão para dirigir!\n",
      "Você tem 18 anos de idade e JÁ TEM permissão para dirigir!\n",
      "Você tem 17 anos de idade e AINDA NÃO TEM permissão para dirigir!\n",
      "Você tem 20 anos de idade e JÁ TEM permissão para dirigir!\n"
     ]
    }
   ],
   "source": [
    "verIdades(idades)"
   ]
  },
  {
   "cell_type": "markdown",
   "id": "b5cb14cd",
   "metadata": {},
   "source": [
    "## Booleano:"
   ]
  },
  {
   "cell_type": "code",
   "execution_count": 85,
   "id": "99c683b8",
   "metadata": {},
   "outputs": [
    {
     "data": {
      "text/plain": [
       "True"
      ]
     },
     "execution_count": 85,
     "metadata": {},
     "output_type": "execute_result"
    }
   ],
   "source": [
    "idade = 18\n",
    "idade >= 18"
   ]
  },
  {
   "cell_type": "code",
   "execution_count": 86,
   "id": "b31e49aa",
   "metadata": {},
   "outputs": [
    {
     "data": {
      "text/plain": [
       "False"
      ]
     },
     "execution_count": 86,
     "metadata": {},
     "output_type": "execute_result"
    }
   ],
   "source": [
    "idade = 16\n",
    "idade >= 18"
   ]
  },
  {
   "cell_type": "code",
   "execution_count": 102,
   "id": "a7a669b7",
   "metadata": {},
   "outputs": [],
   "source": [
    "permissoes = []\n",
    "idades = [20, 14, 40]\n",
    "\n",
    "def verificacao(idades, permissoes):\n",
    "    for idade in idades:\n",
    "        if idade >= 18:\n",
    "            permissoes.append(True)\n",
    "        else:\n",
    "            permissoes.append(False)"
   ]
  },
  {
   "cell_type": "code",
   "execution_count": 103,
   "id": "fc56eba5",
   "metadata": {},
   "outputs": [],
   "source": [
    "verificacao(idades, permissoes)"
   ]
  },
  {
   "cell_type": "code",
   "execution_count": 104,
   "id": "d0273a54",
   "metadata": {},
   "outputs": [
    {
     "data": {
      "text/plain": [
       "[True, False, True]"
      ]
     },
     "execution_count": 104,
     "metadata": {},
     "output_type": "execute_result"
    }
   ],
   "source": [
    "permissoes"
   ]
  },
  {
   "cell_type": "code",
   "execution_count": 105,
   "id": "a3b373fd",
   "metadata": {},
   "outputs": [
    {
     "name": "stdout",
     "output_type": "stream",
     "text": [
      "Tem permissão para dirigir!\n",
      "Não tem permissão para dirigir!\n",
      "Tem permissão para dirigir!\n"
     ]
    }
   ],
   "source": [
    "for permissao in permissoes:\n",
    "    if permissao == True:\n",
    "        print('Tem permissão para dirigir!')\n",
    "    else: \n",
    "        print('Não tem permissão para dirigir!')"
   ]
  },
  {
   "cell_type": "markdown",
   "id": "032be590",
   "metadata": {},
   "source": [
    "## Tipos em uma Lista:\n"
   ]
  },
  {
   "cell_type": "code",
   "execution_count": 106,
   "id": "b12a51d8",
   "metadata": {},
   "outputs": [],
   "source": [
    "lista = ['Ígor', 19, True, '10']"
   ]
  },
  {
   "cell_type": "code",
   "execution_count": 107,
   "id": "94700352",
   "metadata": {},
   "outputs": [
    {
     "name": "stdout",
     "output_type": "stream",
     "text": [
      "O elemente Ígor é do tipo <class 'str'>\n",
      "O elemente 19 é do tipo <class 'int'>\n",
      "O elemente True é do tipo <class 'bool'>\n",
      "O elemente 10 é do tipo <class 'str'>\n"
     ]
    }
   ],
   "source": [
    "for elemento in lista:\n",
    "    print(f'O elemente {elemento} é do tipo {type(elemento)}')"
   ]
  },
  {
   "cell_type": "markdown",
   "id": "e77f682a",
   "metadata": {},
   "source": [
    "## Imports"
   ]
  },
  {
   "cell_type": "code",
   "execution_count": 130,
   "id": "c7be1b7e",
   "metadata": {},
   "outputs": [],
   "source": [
    "from random import randrange, seed"
   ]
  },
  {
   "cell_type": "code",
   "execution_count": 150,
   "id": "c5faa646",
   "metadata": {},
   "outputs": [],
   "source": [
    "seed(11)"
   ]
  },
  {
   "cell_type": "code",
   "execution_count": 151,
   "id": "9057902e",
   "metadata": {},
   "outputs": [
    {
     "data": {
      "text/plain": [
       "7"
      ]
     },
     "execution_count": 151,
     "metadata": {},
     "output_type": "execute_result"
    }
   ],
   "source": [
    "randrange(0, 11)"
   ]
  },
  {
   "cell_type": "code",
   "execution_count": 152,
   "id": "ec02df0f",
   "metadata": {},
   "outputs": [
    {
     "data": {
      "text/plain": [
       "[8, 7, 7, 8, 9, 3, 2, 8]"
      ]
     },
     "execution_count": 152,
     "metadata": {},
     "output_type": "execute_result"
    }
   ],
   "source": [
    "notas_de_matematica = []\n",
    "for nota in range(8):\n",
    "    notas_de_matematica.append(randrange(0,11))\n",
    "    \n",
    "notas_de_matematica"
   ]
  },
  {
   "cell_type": "markdown",
   "id": "3461ac47",
   "metadata": {},
   "source": [
    "## Matplotlib"
   ]
  },
  {
   "cell_type": "code",
   "execution_count": 154,
   "id": "4edbce45",
   "metadata": {},
   "outputs": [],
   "source": [
    "import matplotlib.pyplot as plt"
   ]
  },
  {
   "cell_type": "code",
   "execution_count": 156,
   "id": "41997132",
   "metadata": {},
   "outputs": [],
   "source": [
    "x = list(range(1, 9))\n",
    "y = notas_de_matematica"
   ]
  },
  {
   "cell_type": "code",
   "execution_count": 162,
   "id": "a46b9322",
   "metadata": {},
   "outputs": [
    {
     "data": {
      "image/png": "[encoded data removed]",
      "text/plain": [
       "<Figure size 432x288 with 1 Axes>"
      ]
     },
     "metadata": {
      "needs_background": "light"
     },
     "output_type": "display_data"
    }
   ],
   "source": [
    "plt.plot(x, y, marker = 'o')\n",
    "plt.title('Notas de Matemática')\n",
    "plt.xlabel('Provas')\n",
    "plt.ylabel('Notas')\n",
    "plt.show()"
   ]
  },
  {
   "cell_type": "code",
   "execution_count": null,
   "id": "50138f78",
   "metadata": {},
   "outputs": [],
   "source": []
  }
 ],
 "metadata": {
  "kernelspec": {
   "display_name": "Python 3 (ipykernel)",
   "language": "python",
   "name": "python3"
  },
  "language_info": {
   "codemirror_mode": {
    "name": "ipython",
    "version": 3
   },
   "file_extension": ".py",
   "mimetype": "text/x-python",
   "name": "python",
   "nbconvert_exporter": "python",
   "pygments_lexer": "ipython3",
   "version": "3.9.12"
  }
 },
 "nbformat": 4,
 "nbformat_minor": 5
}
