{
 "cells": [
  {
   "cell_type": "markdown",
   "id": "3c1e4b16",
   "metadata": {},
   "source": [
    "# Lógica de Programação\n"
   ]
  },
  {
   "cell_type": "markdown",
   "id": "4cad7102",
   "metadata": {},
   "source": [
    "## Introdução:"
   ]
  },
  {
   "cell_type": "code",
   "execution_count": 57,
   "id": "4ed01701",
   "metadata": {},
   "outputs": [],
   "source": [
    "nome = 'Ígor Douglas Ramos da Silva'\n",
    "idade = 19"
   ]
  },
  {
   "cell_type": "code",
   "execution_count": 58,
   "id": "955503cf",
   "metadata": {},
   "outputs": [
    {
     "name": "stdout",
     "output_type": "stream",
     "text": [
      "O meu nome é Ígor Douglas Ramos da Silva e minha idade é 19!\n"
     ]
    }
   ],
   "source": [
    "print(f'O meu nome é {nome} e minha idade é {idade}!')"
   ]
  },
  {
   "cell_type": "markdown",
   "id": "cde20867",
   "metadata": {},
   "source": [
    "## Criando minha primeira função:\n"
   ]
  },
  {
   "cell_type": "code",
   "execution_count": 59,
   "id": "b28d496b",
   "metadata": {},
   "outputs": [],
   "source": [
    "def saudacao():\n",
    "    nome = str(input(\"Qual o seu nome? \"))\n",
    "    print(f\"Olá {nome}!\") "
   ]
  },
  {
   "cell_type": "code",
   "execution_count": 60,
   "id": "a5929164",
   "metadata": {},
   "outputs": [
    {
     "name": "stdout",
     "output_type": "stream",
     "text": [
      "Qual o seu nome? Ígor\n",
      "Olá Ígor!\n"
     ]
    }
   ],
   "source": [
    "saudacao()"
   ]
  },
  {
   "cell_type": "markdown",
   "id": "a3f3d397",
   "metadata": {},
   "source": [
    "## Parâmetros:"
   ]
  },
  {
   "cell_type": "code",
   "execution_count": 61,
   "id": "8fd3d9ca",
   "metadata": {},
   "outputs": [],
   "source": [
    "nome = 'Ivan'"
   ]
  },
  {
   "cell_type": "code",
   "execution_count": 62,
   "id": "e21143ed",
   "metadata": {},
   "outputs": [],
   "source": [
    "def saudacao_com_parametros(nome_da_pessoa):\n",
    "    print(f'Olá, {nome_da_pessoa}!')"
   ]
  },
  {
   "cell_type": "code",
   "execution_count": 63,
   "id": "bb095c28",
   "metadata": {},
   "outputs": [
    {
     "name": "stdout",
     "output_type": "stream",
     "text": [
      "Olá, Ivan!\n"
     ]
    }
   ],
   "source": [
    "saudacao_com_parametros(nome)"
   ]
  },
  {
   "cell_type": "markdown",
   "id": "be1b0e29",
   "metadata": {},
   "source": [
    "## Condições:"
   ]
  },
  {
   "cell_type": "code",
   "execution_count": 64,
   "id": "3c6f7560",
   "metadata": {},
   "outputs": [],
   "source": [
    "idade = 19"
   ]
  },
  {
   "cell_type": "code",
   "execution_count": 65,
   "id": "bcca35d6",
   "metadata": {},
   "outputs": [],
   "source": [
    "def verificacao_permissao_dirigir(idade):\n",
    "    if idade >= 18:\n",
    "        print(f'Você já tem permissão para dirigir!')\n",
    "    else:\n",
    "        print(\"Você ainda não tem permissão para dirigir!\")"
   ]
  },
  {
   "cell_type": "code",
   "execution_count": 66,
   "id": "dd6f0a34",
   "metadata": {},
   "outputs": [
    {
     "name": "stdout",
     "output_type": "stream",
     "text": [
      "Você já tem permissão para dirigir!\n"
     ]
    }
   ],
   "source": [
    "verificacao_permissao_dirigir(idade)"
   ]
  },
  {
   "cell_type": "code",
   "execution_count": 67,
   "id": "fd082719",
   "metadata": {},
   "outputs": [
    {
     "name": "stdout",
     "output_type": "stream",
     "text": [
      "Qual a sua idade? 19\n",
      "Você pode dirigir!\n"
     ]
    }
   ],
   "source": [
    "def verifica_pode_dirigir():\n",
    "    idade = int(input('Qual a sua idade? '))\n",
    "    if idade >= 18:\n",
    "        print('Você pode dirigir!')\n",
    "    else:\n",
    "        print('Você não pode dirigir!')\n",
    "\n",
    "verifica_pode_dirigir()"
   ]
  },
  {
   "cell_type": "markdown",
   "id": "87e0d0f1",
   "metadata": {},
   "source": [
    "## Listas:\n"
   ]
  },
  {
   "cell_type": "code",
   "execution_count": 68,
   "id": "e9aecf37",
   "metadata": {},
   "outputs": [],
   "source": [
    "idade = 22"
   ]
  },
  {
   "cell_type": "code",
   "execution_count": 69,
   "id": "6b86f9d9",
   "metadata": {},
   "outputs": [
    {
     "data": {
      "text/plain": [
       "22"
      ]
     },
     "execution_count": 69,
     "metadata": {},
     "output_type": "execute_result"
    }
   ],
   "source": [
    "idade"
   ]
  },
  {
   "cell_type": "code",
   "execution_count": 70,
   "id": "e7ed7c2e",
   "metadata": {},
   "outputs": [
    {
     "data": {
      "text/plain": [
       "int"
      ]
     },
     "execution_count": 70,
     "metadata": {},
     "output_type": "execute_result"
    }
   ],
   "source": [
    "type(idade)"
   ]
  },
  {
   "cell_type": "code",
   "execution_count": 71,
   "id": "6e6b0d04",
   "metadata": {},
   "outputs": [],
   "source": [
    "nome = \"Igor\""
   ]
  },
  {
   "cell_type": "code",
   "execution_count": 72,
   "id": "d7649b7c",
   "metadata": {},
   "outputs": [
    {
     "data": {
      "text/plain": [
       "str"
      ]
     },
     "execution_count": 72,
     "metadata": {},
     "output_type": "execute_result"
    }
   ],
   "source": [
    "type(nome)"
   ]
  },
  {
   "cell_type": "code",
   "execution_count": 73,
   "id": "5d1c4db1",
   "metadata": {},
   "outputs": [],
   "source": [
    "idades = [13, 18, 17, 20]"
   ]
  },
  {
   "cell_type": "code",
   "execution_count": 74,
   "id": "71f2f8ae",
   "metadata": {},
   "outputs": [
    {
     "data": {
      "text/plain": [
       "list"
      ]
     },
     "execution_count": 74,
     "metadata": {},
     "output_type": "execute_result"
    }
   ],
   "source": [
    "type(idades)"
   ]
  },
  {
   "cell_type": "code",
   "execution_count": 75,
   "id": "9006d56b",
   "metadata": {},
   "outputs": [
    {
     "data": {
      "text/plain": [
       "17"
      ]
     },
     "execution_count": 75,
     "metadata": {},
     "output_type": "execute_result"
    }
   ],
   "source": [
    "idades[2]"
   ]
  },
  {
   "cell_type": "code",
   "execution_count": 76,
   "id": "263d6478",
   "metadata": {},
   "outputs": [
    {
     "data": {
      "text/plain": [
       "[13, 18, 17, 20]"
      ]
     },
     "execution_count": 76,
     "metadata": {},
     "output_type": "execute_result"
    }
   ],
   "source": [
    "idades"
   ]
  },
  {
   "cell_type": "markdown",
   "id": "d7deb3ef",
   "metadata": {},
   "source": [
    "## Laços e Loop:"
   ]
  },
  {
   "cell_type": "code",
   "execution_count": 77,
   "id": "4e8f668c",
   "metadata": {},
   "outputs": [],
   "source": [
    "def verificacao_permissao_dirigir(idade):\n",
    "    if idade >= 18:\n",
    "        print(f'{idade} anos de idade, já tem permissão para dirigir!')\n",
    "    else:\n",
    "        print(f\"{idade} anos de idade, ainda não tem permissão para dirigir!\")"
   ]
  },
  {
   "cell_type": "code",
   "execution_count": 78,
   "id": "020aadf7",
   "metadata": {},
   "outputs": [
    {
     "name": "stdout",
     "output_type": "stream",
     "text": [
      "13 anos de idade, ainda não tem permissão para dirigir!\n",
      "18 anos de idade, já tem permissão para dirigir!\n",
      "17 anos de idade, ainda não tem permissão para dirigir!\n",
      "20 anos de idade, já tem permissão para dirigir!\n"
     ]
    }
   ],
   "source": [
    "for idade in idades:\n",
    "    verificacao_permissao_dirigir(idade)"
   ]
  },
  {
   "cell_type": "code",
   "execution_count": 81,
   "id": "3f3f54b6",
   "metadata": {},
   "outputs": [],
   "source": [
    "def verIdades(idades):\n",
    "    for idade in idades:\n",
    "        if idade >= 18:\n",
    "            print(f'Você tem {idade} anos de idade e JÁ TEM permissão para dirigir!')\n",
    "        else:\n",
    "            print(f'Você tem {idade} anos de idade e AINDA NÃO TEM permissão para dirigir!')"
   ]
  },
  {
   "cell_type": "code",
   "execution_count": 82,
   "id": "e55e1708",
   "metadata": {},
   "outputs": [
    {
     "name": "stdout",
     "output_type": "stream",
     "text": [
      "Você tem 13 anos de idade e AINDA NÃO TEM permissão para dirigir!\n",
      "Você tem 18 anos de idade e JÁ TEM permissão para dirigir!\n",
      "Você tem 17 anos de idade e AINDA NÃO TEM permissão para dirigir!\n",
      "Você tem 20 anos de idade e JÁ TEM permissão para dirigir!\n"
     ]
    }
   ],
   "source": [
    "verIdades(idades)"
   ]
  },
  {
   "cell_type": "markdown",
   "id": "b30f79bb",
   "metadata": {},
   "source": [
    "## Booleano:"
   ]
  },
  {
   "cell_type": "code",
   "execution_count": 85,
   "id": "091c215e",
   "metadata": {},
   "outputs": [
    {
     "data": {
      "text/plain": [
       "True"
      ]
     },
     "execution_count": 85,
     "metadata": {},
     "output_type": "execute_result"
    }
   ],
   "source": [
    "idade = 18\n",
    "idade >= 18"
   ]
  },
  {
   "cell_type": "code",
   "execution_count": 86,
   "id": "95053239",
   "metadata": {},
   "outputs": [
    {
     "data": {
      "text/plain": [
       "False"
      ]
     },
     "execution_count": 86,
     "metadata": {},
     "output_type": "execute_result"
    }
   ],
   "source": [
    "idade = 16\n",
    "idade >= 18"
   ]
  },
  {
   "cell_type": "code",
   "execution_count": 102,
   "id": "6ef9129a",
   "metadata": {},
   "outputs": [],
   "source": [
    "permissoes = []\n",
    "idades = [20, 14, 40]\n",
    "\n",
    "def verificacao(idades, permissoes):\n",
    "    for idade in idades:\n",
    "        if idade >= 18:\n",
    "            permissoes.append(True)\n",
    "        else:\n",
    "            permissoes.append(False)"
   ]
  },
  {
   "cell_type": "code",
   "execution_count": 103,
   "id": "da6fdb35",
   "metadata": {},
   "outputs": [],
   "source": [
    "verificacao(idades, permissoes)"
   ]
  },
  {
   "cell_type": "code",
   "execution_count": 104,
   "id": "66549439",
   "metadata": {},
   "outputs": [
    {
     "data": {
      "text/plain": [
       "[True, False, True]"
      ]
     },
     "execution_count": 104,
     "metadata": {},
     "output_type": "execute_result"
    }
   ],
   "source": [
    "permissoes"
   ]
  },
  {
   "cell_type": "code",
   "execution_count": 105,
   "id": "2729535b",
   "metadata": {},
   "outputs": [
    {
     "name": "stdout",
     "output_type": "stream",
     "text": [
      "Tem permissão para dirigir!\n",
      "Não tem permissão para dirigir!\n",
      "Tem permissão para dirigir!\n"
     ]
    }
   ],
   "source": [
    "for permissao in permissoes:\n",
    "    if permissao == True:\n",
    "        print('Tem permissão para dirigir!')\n",
    "    else: \n",
    "        print('Não tem permissão para dirigir!')"
   ]
  },
  {
   "cell_type": "markdown",
   "id": "1463afa5",
   "metadata": {},
   "source": [
    "## Tipos em uma Lista:\n"
   ]
  },
  {
   "cell_type": "code",
   "execution_count": 106,
   "id": "4b9a4087",
   "metadata": {},
   "outputs": [],
   "source": [
    "lista = ['Ígor', 19, True, '10']"
   ]
  },
  {
   "cell_type": "code",
   "execution_count": 107,
   "id": "02d74d49",
   "metadata": {},
   "outputs": [
    {
     "name": "stdout",
     "output_type": "stream",
     "text": [
      "O elemente Ígor é do tipo <class 'str'>\n",
      "O elemente 19 é do tipo <class 'int'>\n",
      "O elemente True é do tipo <class 'bool'>\n",
      "O elemente 10 é do tipo <class 'str'>\n"
     ]
    }
   ],
   "source": [
    "for elemento in lista:\n",
    "    print(f'O elemente {elemento} é do tipo {type(elemento)}')"
   ]
  },
  {
   "cell_type": "markdown",
   "id": "3b9ab767",
   "metadata": {},
   "source": [
    "## Imports"
   ]
  },
  {
   "cell_type": "code",
   "execution_count": 108,
   "id": "e67d4bce",
   "metadata": {},
   "outputs": [],
   "source": [
    "from random import randrange"
   ]
  },
  {
   "cell_type": "code",
   "execution_count": 112,
   "id": "277db6cd",
   "metadata": {},
   "outputs": [
    {
     "data": {
      "text/plain": [
       "8"
      ]
     },
     "execution_count": 112,
     "metadata": {},
     "output_type": "execute_result"
    }
   ],
   "source": [
    "randrange(0, 11)"
   ]
  },
  {
   "cell_type": "code",
   "execution_count": 113,
   "id": "fab9af01",
   "metadata": {},
   "outputs": [],
   "source": [
    "notas_de_matematica = []"
   ]
  },
  {
   "cell_type": "code",
   "execution_count": 114,
   "id": "5f9c9c35",
   "metadata": {},
   "outputs": [],
   "source": [
    "notas_de_matematica.append(randrange(0,11))"
   ]
  },
  {
   "cell_type": "code",
   "execution_count": null,
   "id": "bed1b779",
   "metadata": {},
   "outputs": [],
   "source": []
  },
  {
   "cell_type": "code",
   "execution_count": null,
   "id": "463a8394",
   "metadata": {},
   "outputs": [],
   "source": []
  }
 ],
 "metadata": {
  "kernelspec": {
   "display_name": "Python 3 (ipykernel)",
   "language": "python",
   "name": "python3"
  },
  "language_info": {
   "codemirror_mode": {
    "name": "ipython",
    "version": 3
   },
   "file_extension": ".py",
   "mimetype": "text/x-python",
   "name": "python",
   "nbconvert_exporter": "python",
   "pygments_lexer": "ipython3",
   "version": "3.9.12"
  }
 },
 "nbformat": 4,
 "nbformat_minor": 5
}
